{
  "cells": [
    {
      "cell_type": "raw",
      "metadata": {
        "vscode": {
          "languageId": "raw"
        }
      },
      "source": [
        "# 🌊 Water Watcher - Quick Data Exploration\n",
        "\n",
        "**Quick start analysis using only core Python packages**\n",
        "\n",
        "This notebook works with minimal dependencies to get you started immediately while we resolve the geospatial package installations.\n",
        "\n",
        "## Objectives:\n",
        "1. Test USGS API connectivity and data format\n",
        "2. Analyze basic water data patterns \n",
        "3. Identify key sites for the web application\n",
        "4. Create simple visualizations for development planning\n"
      ]
    },
    {
      "cell_type": "code",
      "execution_count": 1,
      "metadata": {},
      "outputs": [
        {
          "name": "stdout",
          "output_type": "stream",
          "text": [
            "✅ Core libraries loaded successfully!\n",
            "🌊 Ready to explore water data!\n"
          ]
        }
      ],
      "source": [
        "# Core libraries only - no geospatial dependencies\n",
        "import requests\n",
        "import json\n",
        "import pandas as pd\n",
        "import matplotlib.pyplot as plt\n",
        "from datetime import datetime, timedelta\n",
        "import warnings\n",
        "warnings.filterwarnings('ignore')\n",
        "\n",
        "print(\"✅ Core libraries loaded successfully!\")\n",
        "print(\"🌊 Ready to explore water data!\")\n"
      ]
    },
    {
      "cell_type": "code",
      "execution_count": 2,
      "metadata": {},
      "outputs": [
        {
          "name": "stdout",
          "output_type": "stream",
          "text": [
            "✅ USGS API connectivity successful!\n",
            "📊 Retrieved data for 2 time series\n"
          ]
        }
      ],
      "source": [
        "# Test USGS API connectivity\n",
        "USGS_BASE_URL = \"https://waterservices.usgs.gov/nwis/iv/\"\n",
        "\n",
        "# Colorado Plateau bounding box\n",
        "COLORADO_PLATEAU_BBOX = {\n",
        "    'min_lat': 35.0,   # Southern edge \n",
        "    'max_lat': 40.5,   # Northern edge \n",
        "    'min_lon': -114.0, # Western edge \n",
        "    'max_lon': -106.0  # Eastern edge \n",
        "}\n",
        "\n",
        "def test_usgs_api():\n",
        "    \"\"\"Test basic USGS API connectivity\"\"\"\n",
        "    try:\n",
        "        # Get current streamflow data for a few sites\n",
        "        params = {\n",
        "            'format': 'json',\n",
        "            'sites': '09379500,09380000',  # San Juan River sites\n",
        "            'parameterCd': '00060',  # Discharge\n",
        "            'period': 'P7D'  # Last 7 days\n",
        "        }\n",
        "        \n",
        "        response = requests.get(USGS_BASE_URL, params=params, timeout=10)\n",
        "        \n",
        "        if response.status_code == 200:\n",
        "            data = response.json()\n",
        "            print(\"✅ USGS API connectivity successful!\")\n",
        "            print(f\"📊 Retrieved data for {len(data.get('value', {}).get('timeSeries', []))} time series\")\n",
        "            return data\n",
        "        else:\n",
        "            print(f\"❌ USGS API error: {response.status_code}\")\n",
        "            return None\n",
        "            \n",
        "    except Exception as e:\n",
        "        print(f\"❌ Connection error: {e}\")\n",
        "        return None\n",
        "\n",
        "# Test the API\n",
        "usgs_data = test_usgs_api()\n"
      ]
    },
    {
      "cell_type": "code",
      "execution_count": null,
      "metadata": {},
      "outputs": [],
      "source": []
    },
    {
      "cell_type": "code",
      "execution_count": null,
      "metadata": {},
      "outputs": [
        {
          "name": "stdout",
          "output_type": "stream",
          "text": [
            "🏔️ Colorado Plateau Study Area Defined\n",
            "📍 Bounds: {'north': 40.5, 'south': 35.0, 'east': -106.0, 'west': -114.0}\n",
            "🌊 Priority Basins: 5 major river systems\n"
          ]
        }
      ],
      "source": [
        "# 🗺️ Define Colorado Plateau Study Area\n",
        "# The Colorado Plateau is a physiographic region covering ~130,000 sq miles\n",
        "# We'll focus on the core region with highest data density\n",
        "\n",
        "# Colorado Plateau approximate boundaries\n",
        "COLORADO_PLATEAU_BOUNDS = {\n",
        "    'north': 40.5,   # Northern Colorado/Utah border\n",
        "    'south': 35.0,   # Northern Arizona/New Mexico\n",
        "    'east': -106.0,  # Eastern New Mexico\n",
        "    'west': -114.0   # Eastern Nevada/Western Utah\n",
        "}\n",
        "\n",
        "# Key river basins for analysis priority\n",
        "PRIORITY_BASINS = {\n",
        "    'Colorado River': 'The lifeline of the Southwest',\n",
        "    'San Juan River': 'Major tributary with dense monitoring',\n",
        "    'Green River': 'Upper Colorado River system',\n",
        "    'Dolores River': 'Colorado tributary',\n",
        "    'Animas River': 'Four Corners region'\n",
        "}\n",
        "\n",
        "print(\"🏔️ Colorado Plateau Study Area Defined\")\n",
        "print(f\"📍 Bounds: {COLORADO_PLATEAU_BOUNDS}\")\n",
        "print(f\"🌊 Priority Basins: {len(PRIORITY_BASINS)} major river systems\")\n"
      ]
    },
    {
      "cell_type": "code",
      "execution_count": null,
      "metadata": {},
      "outputs": [
        {
          "name": "stdout",
          "output_type": "stream",
          "text": [
            "🏔️ Colorado Plateau Study Area Defined\n",
            "📍 Bounds: {'north': 40.5, 'south': 35.0, 'east': -106.0, 'west': -114.0}\n",
            "🌊 Priority Basins: 5 major river systems\n"
          ]
        }
      ],
      "source": [
        "# 🗺️ Define Colorado Plateau Study Area\n",
        "# The Colorado Plateau is a physiographic region covering ~130,000 sq miles\n",
        "# We'll focus on the core region with highest data density\n",
        "\n",
        "# Colorado Plateau approximate boundaries\n",
        "COLORADO_PLATEAU_BOUNDS = {\n",
        "    'north': 40.5,   # Northern Colorado/Utah border\n",
        "    'south': 35.0,   # Northern Arizona/New Mexico\n",
        "    'east': -106.0,  # Eastern New Mexico\n",
        "    'west': -114.0   # Eastern Nevada/Western Utah\n",
        "}\n",
        "\n",
        "# Key river basins for analysis priority\n",
        "PRIORITY_BASINS = {\n",
        "    'Colorado River': 'The lifeline of the Southwest',\n",
        "    'San Juan River': 'Major tributary with dense monitoring',\n",
        "    'Green River': 'Upper Colorado River system',\n",
        "    'Dolores River': 'Colorado tributary',\n",
        "    'Animas River': 'Four Corners region'\n",
        "}\n",
        "\n",
        "print(\"🏔️ Colorado Plateau Study Area Defined\")\n",
        "print(f\"📍 Bounds: {COLORADO_PLATEAU_BOUNDS}\")\n",
        "print(f\"🌊 Priority Basins: {len(PRIORITY_BASINS)} major river systems\")\n"
      ]
    },
    {
      "cell_type": "code",
      "execution_count": null,
      "metadata": {},
      "outputs": [
        {
          "name": "stdout",
          "output_type": "stream",
          "text": [
            "🏔️ Colorado Plateau Study Area Defined\n",
            "📍 Bounds: {'north': 40.5, 'south': 35.0, 'east': -106.0, 'west': -114.0}\n",
            "🌊 Priority Basins: 5 major river systems\n"
          ]
        }
      ],
      "source": [
        "# 🗺️ Define Colorado Plateau Study Area\n",
        "# The Colorado Plateau is a physiographic region covering ~130,000 sq miles\n",
        "# We'll focus on the core region with highest data density\n",
        "\n",
        "# Colorado Plateau approximate boundaries\n",
        "COLORADO_PLATEAU_BOUNDS = {\n",
        "    'north': 40.5,   # Northern Colorado/Utah border\n",
        "    'south': 35.0,   # Northern Arizona/New Mexico\n",
        "    'east': -106.0,  # Eastern New Mexico\n",
        "    'west': -114.0   # Eastern Nevada/Western Utah\n",
        "}\n",
        "\n",
        "# Key river basins for analysis priority\n",
        "PRIORITY_BASINS = {\n",
        "    'Colorado River': 'The lifeline of the Southwest',\n",
        "    'San Juan River': 'Major tributary with dense monitoring',\n",
        "    'Green River': 'Upper Colorado River system',\n",
        "    'Dolores River': 'Colorado tributary',\n",
        "    'Animas River': 'Four Corners region'\n",
        "}\n",
        "\n",
        "print(\"🏔️ Colorado Plateau Study Area Defined\")\n",
        "print(f\"📍 Bounds: {COLORADO_PLATEAU_BOUNDS}\")\n",
        "print(f\"🌊 Priority Basins: {len(PRIORITY_BASINS)} major river systems\")\n"
      ]
    },
    {
      "cell_type": "code",
      "execution_count": null,
      "metadata": {},
      "outputs": [
        {
          "name": "stdout",
          "output_type": "stream",
          "text": [
            "🏔️ Colorado Plateau Study Area Defined\n",
            "📍 Bounds: {'north': 40.5, 'south': 35.0, 'east': -106.0, 'west': -114.0}\n",
            "🌊 Priority Basins: 5 major river systems\n"
          ]
        }
      ],
      "source": [
        "# 🗺️ Define Colorado Plateau Study Area\n",
        "# The Colorado Plateau is a physiographic region covering ~130,000 sq miles\n",
        "# We'll focus on the core region with highest data density\n",
        "\n",
        "# Colorado Plateau approximate boundaries\n",
        "COLORADO_PLATEAU_BOUNDS = {\n",
        "    'north': 40.5,   # Northern Colorado/Utah border\n",
        "    'south': 35.0,   # Northern Arizona/New Mexico\n",
        "    'east': -106.0,  # Eastern New Mexico\n",
        "    'west': -114.0   # Eastern Nevada/Western Utah\n",
        "}\n",
        "\n",
        "# Key river basins for analysis priority\n",
        "PRIORITY_BASINS = {\n",
        "    'Colorado River': 'The lifeline of the Southwest',\n",
        "    'San Juan River': 'Major tributary with dense monitoring',\n",
        "    'Green River': 'Upper Colorado River system',\n",
        "    'Dolores River': 'Colorado tributary',\n",
        "    'Animas River': 'Four Corners region'\n",
        "}\n",
        "\n",
        "print(\"🏔️ Colorado Plateau Study Area Defined\")\n",
        "print(f\"📍 Bounds: {COLORADO_PLATEAU_BOUNDS}\")\n",
        "print(f\"🌊 Priority Basins: {len(PRIORITY_BASINS)} major river systems\")\n"
      ]
    }
  ],
  "metadata": {
    "kernelspec": {
      "display_name": "venv",
      "language": "python",
      "name": "python3"
    },
    "language_info": {
      "codemirror_mode": {
        "name": "ipython",
        "version": 3
      },
      "file_extension": ".py",
      "mimetype": "text/x-python",
      "name": "python",
      "nbconvert_exporter": "python",
      "pygments_lexer": "ipython3",
      "version": "3.13.4"
    }
  },
  "nbformat": 4,
  "nbformat_minor": 2
}
